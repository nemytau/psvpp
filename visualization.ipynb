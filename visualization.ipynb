{
 "cells": [
  {
   "cell_type": "code",
   "execution_count": 1,
   "outputs": [],
   "source": [
    "import pandas as pd\n",
    "\n",
    "import alns.Beans.schedule\n",
    "import alns.utils.io as io\n",
    "from alns.Beans.schedule import Schedule\n",
    "import plotly.express as px\n",
    "import pandas as pd\n",
    "from alns.utils.utils import *"
   ],
   "metadata": {
    "collapsed": false,
    "pycharm": {
     "name": "#%%\n"
    }
   }
  },
  {
   "cell_type": "code",
   "execution_count": 11,
   "outputs": [],
   "source": [
    "gen_param_name = 'SMALL_2'\n",
    "dataset_name = 'test1'\n",
    "\n",
    "insts, vessels, base = load_data(gen_param_name=gen_param_name, dataset_name=dataset_name, source=io.IOSource.SAMPLE)"
   ],
   "metadata": {
    "collapsed": false,
    "pycharm": {
     "name": "#%%\n"
    }
   }
  },
  {
   "cell_type": "code",
   "execution_count": 16,
   "outputs": [],
   "source": [
    "sch = Schedule(vessels, insts, base)"
   ],
   "metadata": {
    "collapsed": false,
    "pycharm": {
     "name": "#%%\n"
    }
   }
  },
  {
   "cell_type": "code",
   "execution_count": 17,
   "outputs": [
    {
     "data": {
      "text/plain": "      Vessel        Route  Start         End\n0   Vessel 0        p3-p7     16   36.884504\n1   Vessel 0           p6     64   69.816980\n2   Vessel 0           d4     88  106.434778\n3   Vessel 0           d2    136  154.804757\n4   Vessel 1           d3     40   64.734931\n5   Vessel 1     d5-d0-p5     88  116.474304\n6   Vessel 1           p5    136  161.213910\n7   Vessel 2  p2-d1-p4-p1     40   68.412239\n8   Vessel 2     p2-d1-p1     88  114.988926\n9   Vessel 2        p6-d3    160  168.000000\n10  Vessel 2        p6-d3      0   16.734931\n11  Vessel 3        p0-p7     64   89.784135\n12  Vessel 3           p6    112  117.816980\n13  Vessel 3     d4-d0-p0    160  168.000000\n14  Vessel 3     d4-d0-p0      0   20.147050\n15  Vessel 4           p0    112  135.380506",
      "text/html": "<div>\n<style scoped>\n    .dataframe tbody tr th:only-of-type {\n        vertical-align: middle;\n    }\n\n    .dataframe tbody tr th {\n        vertical-align: top;\n    }\n\n    .dataframe thead th {\n        text-align: right;\n    }\n</style>\n<table border=\"1\" class=\"dataframe\">\n  <thead>\n    <tr style=\"text-align: right;\">\n      <th></th>\n      <th>Vessel</th>\n      <th>Route</th>\n      <th>Start</th>\n      <th>End</th>\n    </tr>\n  </thead>\n  <tbody>\n    <tr>\n      <th>0</th>\n      <td>Vessel 0</td>\n      <td>p3-p7</td>\n      <td>16</td>\n      <td>36.884504</td>\n    </tr>\n    <tr>\n      <th>1</th>\n      <td>Vessel 0</td>\n      <td>p6</td>\n      <td>64</td>\n      <td>69.816980</td>\n    </tr>\n    <tr>\n      <th>2</th>\n      <td>Vessel 0</td>\n      <td>d4</td>\n      <td>88</td>\n      <td>106.434778</td>\n    </tr>\n    <tr>\n      <th>3</th>\n      <td>Vessel 0</td>\n      <td>d2</td>\n      <td>136</td>\n      <td>154.804757</td>\n    </tr>\n    <tr>\n      <th>4</th>\n      <td>Vessel 1</td>\n      <td>d3</td>\n      <td>40</td>\n      <td>64.734931</td>\n    </tr>\n    <tr>\n      <th>5</th>\n      <td>Vessel 1</td>\n      <td>d5-d0-p5</td>\n      <td>88</td>\n      <td>116.474304</td>\n    </tr>\n    <tr>\n      <th>6</th>\n      <td>Vessel 1</td>\n      <td>p5</td>\n      <td>136</td>\n      <td>161.213910</td>\n    </tr>\n    <tr>\n      <th>7</th>\n      <td>Vessel 2</td>\n      <td>p2-d1-p4-p1</td>\n      <td>40</td>\n      <td>68.412239</td>\n    </tr>\n    <tr>\n      <th>8</th>\n      <td>Vessel 2</td>\n      <td>p2-d1-p1</td>\n      <td>88</td>\n      <td>114.988926</td>\n    </tr>\n    <tr>\n      <th>9</th>\n      <td>Vessel 2</td>\n      <td>p6-d3</td>\n      <td>160</td>\n      <td>168.000000</td>\n    </tr>\n    <tr>\n      <th>10</th>\n      <td>Vessel 2</td>\n      <td>p6-d3</td>\n      <td>0</td>\n      <td>16.734931</td>\n    </tr>\n    <tr>\n      <th>11</th>\n      <td>Vessel 3</td>\n      <td>p0-p7</td>\n      <td>64</td>\n      <td>89.784135</td>\n    </tr>\n    <tr>\n      <th>12</th>\n      <td>Vessel 3</td>\n      <td>p6</td>\n      <td>112</td>\n      <td>117.816980</td>\n    </tr>\n    <tr>\n      <th>13</th>\n      <td>Vessel 3</td>\n      <td>d4-d0-p0</td>\n      <td>160</td>\n      <td>168.000000</td>\n    </tr>\n    <tr>\n      <th>14</th>\n      <td>Vessel 3</td>\n      <td>d4-d0-p0</td>\n      <td>0</td>\n      <td>20.147050</td>\n    </tr>\n    <tr>\n      <th>15</th>\n      <td>Vessel 4</td>\n      <td>p0</td>\n      <td>112</td>\n      <td>135.380506</td>\n    </tr>\n  </tbody>\n</table>\n</div>"
     },
     "execution_count": 17,
     "metadata": {},
     "output_type": "execute_result"
    }
   ],
   "source": [
    "sch.to_df()"
   ],
   "metadata": {
    "collapsed": false,
    "pycharm": {
     "name": "#%%\n"
    }
   }
  },
  {
   "cell_type": "code",
   "execution_count": 18,
   "outputs": [
    {
     "data": {
      "application/vnd.plotly.v1+json": {
       "data": [
        {
         "alignmentgroup": "True",
         "base": [
          "2022-04-10T16:00:00"
         ],
         "hovertemplate": "Route=p3-p7<br>Start_datetime=%{base}<br>End_datetime=%{x}<br>Vessel=%{y}<extra></extra>",
         "legendgroup": "p3-p7",
         "marker": {
          "color": "#636efa",
          "pattern": {
           "shape": ""
          }
         },
         "name": "p3-p7",
         "offsetgroup": "p3-p7",
         "orientation": "h",
         "showlegend": true,
         "textposition": "auto",
         "x": [
          7.51842140796E7
         ],
         "xaxis": "x",
         "y": [
          "Vessel 0"
         ],
         "yaxis": "y",
         "type": "bar"
        },
        {
         "alignmentgroup": "True",
         "base": [
          "2022-04-12T16:00:00",
          "2022-04-14T16:00:00"
         ],
         "hovertemplate": "Route=p6<br>Start_datetime=%{base}<br>End_datetime=%{x}<br>Vessel=%{y}<extra></extra>",
         "legendgroup": "p6",
         "marker": {
          "color": "#EF553B",
          "pattern": {
           "shape": ""
          }
         },
         "name": "p6",
         "offsetgroup": "p6",
         "orientation": "h",
         "showlegend": true,
         "textposition": "auto",
         "x": [
          2.09411266824E7,
          2.09411266824E7
         ],
         "xaxis": "x",
         "y": [
          "Vessel 0",
          "Vessel 3"
         ],
         "yaxis": "y",
         "type": "bar"
        },
        {
         "alignmentgroup": "True",
         "base": [
          "2022-04-13T16:00:00"
         ],
         "hovertemplate": "Route=d4<br>Start_datetime=%{base}<br>End_datetime=%{x}<br>Vessel=%{y}<extra></extra>",
         "legendgroup": "d4",
         "marker": {
          "color": "#00cc96",
          "pattern": {
           "shape": ""
          }
         },
         "name": "d4",
         "offsetgroup": "d4",
         "orientation": "h",
         "showlegend": true,
         "textposition": "auto",
         "x": [
          6.63652006776E7
         ],
         "xaxis": "x",
         "y": [
          "Vessel 0"
         ],
         "yaxis": "y",
         "type": "bar"
        },
        {
         "alignmentgroup": "True",
         "base": [
          "2022-04-15T16:00:00"
         ],
         "hovertemplate": "Route=d2<br>Start_datetime=%{base}<br>End_datetime=%{x}<br>Vessel=%{y}<extra></extra>",
         "legendgroup": "d2",
         "marker": {
          "color": "#ab63fa",
          "pattern": {
           "shape": ""
          }
         },
         "name": "d2",
         "offsetgroup": "d2",
         "orientation": "h",
         "showlegend": true,
         "textposition": "auto",
         "x": [
          6.7697123904E7
         ],
         "xaxis": "x",
         "y": [
          "Vessel 0"
         ],
         "yaxis": "y",
         "type": "bar"
        },
        {
         "alignmentgroup": "True",
         "base": [
          "2022-04-11T16:00:00"
         ],
         "hovertemplate": "Route=d3<br>Start_datetime=%{base}<br>End_datetime=%{x}<br>Vessel=%{y}<extra></extra>",
         "legendgroup": "d3",
         "marker": {
          "color": "#FFA15A",
          "pattern": {
           "shape": ""
          }
         },
         "name": "d3",
         "offsetgroup": "d3",
         "orientation": "h",
         "showlegend": true,
         "textposition": "auto",
         "x": [
          8.90457498792E7
         ],
         "xaxis": "x",
         "y": [
          "Vessel 1"
         ],
         "yaxis": "y",
         "type": "bar"
        },
        {
         "alignmentgroup": "True",
         "base": [
          "2022-04-13T16:00:00"
         ],
         "hovertemplate": "Route=d5-d0-p5<br>Start_datetime=%{base}<br>End_datetime=%{x}<br>Vessel=%{y}<extra></extra>",
         "legendgroup": "d5-d0-p5",
         "marker": {
          "color": "#19d3f3",
          "pattern": {
           "shape": ""
          }
         },
         "name": "d5-d0-p5",
         "offsetgroup": "d5-d0-p5",
         "orientation": "h",
         "showlegend": true,
         "textposition": "auto",
         "x": [
          1.025074947312E8
         ],
         "xaxis": "x",
         "y": [
          "Vessel 1"
         ],
         "yaxis": "y",
         "type": "bar"
        },
        {
         "alignmentgroup": "True",
         "base": [
          "2022-04-15T16:00:00"
         ],
         "hovertemplate": "Route=p5<br>Start_datetime=%{base}<br>End_datetime=%{x}<br>Vessel=%{y}<extra></extra>",
         "legendgroup": "p5",
         "marker": {
          "color": "#FF6692",
          "pattern": {
           "shape": ""
          }
         },
         "name": "p5",
         "offsetgroup": "p5",
         "orientation": "h",
         "showlegend": true,
         "textposition": "auto",
         "x": [
          9.07700752404E7
         ],
         "xaxis": "x",
         "y": [
          "Vessel 1"
         ],
         "yaxis": "y",
         "type": "bar"
        },
        {
         "alignmentgroup": "True",
         "base": [
          "2022-04-11T16:00:00"
         ],
         "hovertemplate": "Route=p2-d1-p4-p1<br>Start_datetime=%{base}<br>End_datetime=%{x}<br>Vessel=%{y}<extra></extra>",
         "legendgroup": "p2-d1-p4-p1",
         "marker": {
          "color": "#B6E880",
          "pattern": {
           "shape": ""
          }
         },
         "name": "p2-d1-p4-p1",
         "offsetgroup": "p2-d1-p4-p1",
         "orientation": "h",
         "showlegend": true,
         "textposition": "auto",
         "x": [
          1.022840598348E8
         ],
         "xaxis": "x",
         "y": [
          "Vessel 2"
         ],
         "yaxis": "y",
         "type": "bar"
        },
        {
         "alignmentgroup": "True",
         "base": [
          "2022-04-13T16:00:00"
         ],
         "hovertemplate": "Route=p2-d1-p1<br>Start_datetime=%{base}<br>End_datetime=%{x}<br>Vessel=%{y}<extra></extra>",
         "legendgroup": "p2-d1-p1",
         "marker": {
          "color": "#FF97FF",
          "pattern": {
           "shape": ""
          }
         },
         "name": "p2-d1-p1",
         "offsetgroup": "p2-d1-p1",
         "orientation": "h",
         "showlegend": true,
         "textposition": "auto",
         "x": [
          9.7160132502E7
         ],
         "xaxis": "x",
         "y": [
          "Vessel 2"
         ],
         "yaxis": "y",
         "type": "bar"
        },
        {
         "alignmentgroup": "True",
         "base": [
          "2022-04-16T16:00:00",
          "2022-04-10T00:00:00"
         ],
         "hovertemplate": "Route=p6-d3<br>Start_datetime=%{base}<br>End_datetime=%{x}<br>Vessel=%{y}<extra></extra>",
         "legendgroup": "p6-d3",
         "marker": {
          "color": "#FECB52",
          "pattern": {
           "shape": ""
          }
         },
         "name": "p6-d3",
         "offsetgroup": "p6-d3",
         "orientation": "h",
         "showlegend": true,
         "textposition": "auto",
         "x": [
          2.88E7,
          6.02457498792E7
         ],
         "xaxis": "x",
         "y": [
          "Vessel 2",
          "Vessel 2"
         ],
         "yaxis": "y",
         "type": "bar"
        },
        {
         "alignmentgroup": "True",
         "base": [
          "2022-04-12T16:00:00"
         ],
         "hovertemplate": "Route=p0-p7<br>Start_datetime=%{base}<br>End_datetime=%{x}<br>Vessel=%{y}<extra></extra>",
         "legendgroup": "p0-p7",
         "marker": {
          "color": "#636efa",
          "pattern": {
           "shape": ""
          }
         },
         "name": "p0-p7",
         "offsetgroup": "p0-p7",
         "orientation": "h",
         "showlegend": true,
         "textposition": "auto",
         "x": [
          9.28228853196E7
         ],
         "xaxis": "x",
         "y": [
          "Vessel 3"
         ],
         "yaxis": "y",
         "type": "bar"
        },
        {
         "alignmentgroup": "True",
         "base": [
          "2022-04-16T16:00:00",
          "2022-04-10T00:00:00"
         ],
         "hovertemplate": "Route=d4-d0-p0<br>Start_datetime=%{base}<br>End_datetime=%{x}<br>Vessel=%{y}<extra></extra>",
         "legendgroup": "d4-d0-p0",
         "marker": {
          "color": "#EF553B",
          "pattern": {
           "shape": ""
          }
         },
         "name": "d4-d0-p0",
         "offsetgroup": "d4-d0-p0",
         "orientation": "h",
         "showlegend": true,
         "textposition": "auto",
         "x": [
          2.88E7,
          7.25293787796E7
         ],
         "xaxis": "x",
         "y": [
          "Vessel 3",
          "Vessel 3"
         ],
         "yaxis": "y",
         "type": "bar"
        },
        {
         "alignmentgroup": "True",
         "base": [
          "2022-04-14T16:00:00"
         ],
         "hovertemplate": "Route=p0<br>Start_datetime=%{base}<br>End_datetime=%{x}<br>Vessel=%{y}<extra></extra>",
         "legendgroup": "p0",
         "marker": {
          "color": "#00cc96",
          "pattern": {
           "shape": ""
          }
         },
         "name": "p0",
         "offsetgroup": "p0",
         "orientation": "h",
         "showlegend": true,
         "textposition": "auto",
         "x": [
          8.41698201456E7
         ],
         "xaxis": "x",
         "y": [
          "Vessel 4"
         ],
         "yaxis": "y",
         "type": "bar"
        }
       ],
       "layout": {
        "template": {
         "data": {
          "histogram2dcontour": [
           {
            "type": "histogram2dcontour",
            "colorbar": {
             "outlinewidth": 0,
             "ticks": ""
            },
            "colorscale": [
             [
              0.0,
              "#0d0887"
             ],
             [
              0.1111111111111111,
              "#46039f"
             ],
             [
              0.2222222222222222,
              "#7201a8"
             ],
             [
              0.3333333333333333,
              "#9c179e"
             ],
             [
              0.4444444444444444,
              "#bd3786"
             ],
             [
              0.5555555555555556,
              "#d8576b"
             ],
             [
              0.6666666666666666,
              "#ed7953"
             ],
             [
              0.7777777777777778,
              "#fb9f3a"
             ],
             [
              0.8888888888888888,
              "#fdca26"
             ],
             [
              1.0,
              "#f0f921"
             ]
            ]
           }
          ],
          "choropleth": [
           {
            "type": "choropleth",
            "colorbar": {
             "outlinewidth": 0,
             "ticks": ""
            }
           }
          ],
          "histogram2d": [
           {
            "type": "histogram2d",
            "colorbar": {
             "outlinewidth": 0,
             "ticks": ""
            },
            "colorscale": [
             [
              0.0,
              "#0d0887"
             ],
             [
              0.1111111111111111,
              "#46039f"
             ],
             [
              0.2222222222222222,
              "#7201a8"
             ],
             [
              0.3333333333333333,
              "#9c179e"
             ],
             [
              0.4444444444444444,
              "#bd3786"
             ],
             [
              0.5555555555555556,
              "#d8576b"
             ],
             [
              0.6666666666666666,
              "#ed7953"
             ],
             [
              0.7777777777777778,
              "#fb9f3a"
             ],
             [
              0.8888888888888888,
              "#fdca26"
             ],
             [
              1.0,
              "#f0f921"
             ]
            ]
           }
          ],
          "heatmap": [
           {
            "type": "heatmap",
            "colorbar": {
             "outlinewidth": 0,
             "ticks": ""
            },
            "colorscale": [
             [
              0.0,
              "#0d0887"
             ],
             [
              0.1111111111111111,
              "#46039f"
             ],
             [
              0.2222222222222222,
              "#7201a8"
             ],
             [
              0.3333333333333333,
              "#9c179e"
             ],
             [
              0.4444444444444444,
              "#bd3786"
             ],
             [
              0.5555555555555556,
              "#d8576b"
             ],
             [
              0.6666666666666666,
              "#ed7953"
             ],
             [
              0.7777777777777778,
              "#fb9f3a"
             ],
             [
              0.8888888888888888,
              "#fdca26"
             ],
             [
              1.0,
              "#f0f921"
             ]
            ]
           }
          ],
          "heatmapgl": [
           {
            "type": "heatmapgl",
            "colorbar": {
             "outlinewidth": 0,
             "ticks": ""
            },
            "colorscale": [
             [
              0.0,
              "#0d0887"
             ],
             [
              0.1111111111111111,
              "#46039f"
             ],
             [
              0.2222222222222222,
              "#7201a8"
             ],
             [
              0.3333333333333333,
              "#9c179e"
             ],
             [
              0.4444444444444444,
              "#bd3786"
             ],
             [
              0.5555555555555556,
              "#d8576b"
             ],
             [
              0.6666666666666666,
              "#ed7953"
             ],
             [
              0.7777777777777778,
              "#fb9f3a"
             ],
             [
              0.8888888888888888,
              "#fdca26"
             ],
             [
              1.0,
              "#f0f921"
             ]
            ]
           }
          ],
          "contourcarpet": [
           {
            "type": "contourcarpet",
            "colorbar": {
             "outlinewidth": 0,
             "ticks": ""
            }
           }
          ],
          "contour": [
           {
            "type": "contour",
            "colorbar": {
             "outlinewidth": 0,
             "ticks": ""
            },
            "colorscale": [
             [
              0.0,
              "#0d0887"
             ],
             [
              0.1111111111111111,
              "#46039f"
             ],
             [
              0.2222222222222222,
              "#7201a8"
             ],
             [
              0.3333333333333333,
              "#9c179e"
             ],
             [
              0.4444444444444444,
              "#bd3786"
             ],
             [
              0.5555555555555556,
              "#d8576b"
             ],
             [
              0.6666666666666666,
              "#ed7953"
             ],
             [
              0.7777777777777778,
              "#fb9f3a"
             ],
             [
              0.8888888888888888,
              "#fdca26"
             ],
             [
              1.0,
              "#f0f921"
             ]
            ]
           }
          ],
          "surface": [
           {
            "type": "surface",
            "colorbar": {
             "outlinewidth": 0,
             "ticks": ""
            },
            "colorscale": [
             [
              0.0,
              "#0d0887"
             ],
             [
              0.1111111111111111,
              "#46039f"
             ],
             [
              0.2222222222222222,
              "#7201a8"
             ],
             [
              0.3333333333333333,
              "#9c179e"
             ],
             [
              0.4444444444444444,
              "#bd3786"
             ],
             [
              0.5555555555555556,
              "#d8576b"
             ],
             [
              0.6666666666666666,
              "#ed7953"
             ],
             [
              0.7777777777777778,
              "#fb9f3a"
             ],
             [
              0.8888888888888888,
              "#fdca26"
             ],
             [
              1.0,
              "#f0f921"
             ]
            ]
           }
          ],
          "mesh3d": [
           {
            "type": "mesh3d",
            "colorbar": {
             "outlinewidth": 0,
             "ticks": ""
            }
           }
          ],
          "scatter": [
           {
            "marker": {
             "line": {
              "color": "#283442"
             }
            },
            "type": "scatter"
           }
          ],
          "parcoords": [
           {
            "type": "parcoords",
            "line": {
             "colorbar": {
              "outlinewidth": 0,
              "ticks": ""
             }
            }
           }
          ],
          "scatterpolargl": [
           {
            "type": "scatterpolargl",
            "marker": {
             "colorbar": {
              "outlinewidth": 0,
              "ticks": ""
             }
            }
           }
          ],
          "bar": [
           {
            "error_x": {
             "color": "#f2f5fa"
            },
            "error_y": {
             "color": "#f2f5fa"
            },
            "marker": {
             "line": {
              "color": "rgb(17,17,17)",
              "width": 0.5
             },
             "pattern": {
              "fillmode": "overlay",
              "size": 10,
              "solidity": 0.2
             }
            },
            "type": "bar"
           }
          ],
          "scattergeo": [
           {
            "type": "scattergeo",
            "marker": {
             "colorbar": {
              "outlinewidth": 0,
              "ticks": ""
             }
            }
           }
          ],
          "scatterpolar": [
           {
            "type": "scatterpolar",
            "marker": {
             "colorbar": {
              "outlinewidth": 0,
              "ticks": ""
             }
            }
           }
          ],
          "histogram": [
           {
            "marker": {
             "pattern": {
              "fillmode": "overlay",
              "size": 10,
              "solidity": 0.2
             }
            },
            "type": "histogram"
           }
          ],
          "scattergl": [
           {
            "marker": {
             "line": {
              "color": "#283442"
             }
            },
            "type": "scattergl"
           }
          ],
          "scatter3d": [
           {
            "type": "scatter3d",
            "line": {
             "colorbar": {
              "outlinewidth": 0,
              "ticks": ""
             }
            },
            "marker": {
             "colorbar": {
              "outlinewidth": 0,
              "ticks": ""
             }
            }
           }
          ],
          "scattermapbox": [
           {
            "type": "scattermapbox",
            "marker": {
             "colorbar": {
              "outlinewidth": 0,
              "ticks": ""
             }
            }
           }
          ],
          "scatterternary": [
           {
            "type": "scatterternary",
            "marker": {
             "colorbar": {
              "outlinewidth": 0,
              "ticks": ""
             }
            }
           }
          ],
          "scattercarpet": [
           {
            "type": "scattercarpet",
            "marker": {
             "colorbar": {
              "outlinewidth": 0,
              "ticks": ""
             }
            }
           }
          ],
          "carpet": [
           {
            "aaxis": {
             "endlinecolor": "#A2B1C6",
             "gridcolor": "#506784",
             "linecolor": "#506784",
             "minorgridcolor": "#506784",
             "startlinecolor": "#A2B1C6"
            },
            "baxis": {
             "endlinecolor": "#A2B1C6",
             "gridcolor": "#506784",
             "linecolor": "#506784",
             "minorgridcolor": "#506784",
             "startlinecolor": "#A2B1C6"
            },
            "type": "carpet"
           }
          ],
          "table": [
           {
            "cells": {
             "fill": {
              "color": "#506784"
             },
             "line": {
              "color": "rgb(17,17,17)"
             }
            },
            "header": {
             "fill": {
              "color": "#2a3f5f"
             },
             "line": {
              "color": "rgb(17,17,17)"
             }
            },
            "type": "table"
           }
          ],
          "barpolar": [
           {
            "marker": {
             "line": {
              "color": "rgb(17,17,17)",
              "width": 0.5
             },
             "pattern": {
              "fillmode": "overlay",
              "size": 10,
              "solidity": 0.2
             }
            },
            "type": "barpolar"
           }
          ],
          "pie": [
           {
            "automargin": true,
            "type": "pie"
           }
          ]
         },
         "layout": {
          "autotypenumbers": "strict",
          "colorway": [
           "#636efa",
           "#EF553B",
           "#00cc96",
           "#ab63fa",
           "#FFA15A",
           "#19d3f3",
           "#FF6692",
           "#B6E880",
           "#FF97FF",
           "#FECB52"
          ],
          "font": {
           "color": "#f2f5fa"
          },
          "hovermode": "closest",
          "hoverlabel": {
           "align": "left"
          },
          "paper_bgcolor": "rgb(17,17,17)",
          "plot_bgcolor": "rgb(17,17,17)",
          "polar": {
           "bgcolor": "rgb(17,17,17)",
           "angularaxis": {
            "gridcolor": "#506784",
            "linecolor": "#506784",
            "ticks": ""
           },
           "radialaxis": {
            "gridcolor": "#506784",
            "linecolor": "#506784",
            "ticks": ""
           }
          },
          "ternary": {
           "bgcolor": "rgb(17,17,17)",
           "aaxis": {
            "gridcolor": "#506784",
            "linecolor": "#506784",
            "ticks": ""
           },
           "baxis": {
            "gridcolor": "#506784",
            "linecolor": "#506784",
            "ticks": ""
           },
           "caxis": {
            "gridcolor": "#506784",
            "linecolor": "#506784",
            "ticks": ""
           }
          },
          "coloraxis": {
           "colorbar": {
            "outlinewidth": 0,
            "ticks": ""
           }
          },
          "colorscale": {
           "sequential": [
            [
             0.0,
             "#0d0887"
            ],
            [
             0.1111111111111111,
             "#46039f"
            ],
            [
             0.2222222222222222,
             "#7201a8"
            ],
            [
             0.3333333333333333,
             "#9c179e"
            ],
            [
             0.4444444444444444,
             "#bd3786"
            ],
            [
             0.5555555555555556,
             "#d8576b"
            ],
            [
             0.6666666666666666,
             "#ed7953"
            ],
            [
             0.7777777777777778,
             "#fb9f3a"
            ],
            [
             0.8888888888888888,
             "#fdca26"
            ],
            [
             1.0,
             "#f0f921"
            ]
           ],
           "sequentialminus": [
            [
             0.0,
             "#0d0887"
            ],
            [
             0.1111111111111111,
             "#46039f"
            ],
            [
             0.2222222222222222,
             "#7201a8"
            ],
            [
             0.3333333333333333,
             "#9c179e"
            ],
            [
             0.4444444444444444,
             "#bd3786"
            ],
            [
             0.5555555555555556,
             "#d8576b"
            ],
            [
             0.6666666666666666,
             "#ed7953"
            ],
            [
             0.7777777777777778,
             "#fb9f3a"
            ],
            [
             0.8888888888888888,
             "#fdca26"
            ],
            [
             1.0,
             "#f0f921"
            ]
           ],
           "diverging": [
            [
             0,
             "#8e0152"
            ],
            [
             0.1,
             "#c51b7d"
            ],
            [
             0.2,
             "#de77ae"
            ],
            [
             0.3,
             "#f1b6da"
            ],
            [
             0.4,
             "#fde0ef"
            ],
            [
             0.5,
             "#f7f7f7"
            ],
            [
             0.6,
             "#e6f5d0"
            ],
            [
             0.7,
             "#b8e186"
            ],
            [
             0.8,
             "#7fbc41"
            ],
            [
             0.9,
             "#4d9221"
            ],
            [
             1,
             "#276419"
            ]
           ]
          },
          "xaxis": {
           "gridcolor": "#283442",
           "linecolor": "#506784",
           "ticks": "",
           "title": {
            "standoff": 15
           },
           "zerolinecolor": "#283442",
           "automargin": true,
           "zerolinewidth": 2
          },
          "yaxis": {
           "gridcolor": "#283442",
           "linecolor": "#506784",
           "ticks": "",
           "title": {
            "standoff": 15
           },
           "zerolinecolor": "#283442",
           "automargin": true,
           "zerolinewidth": 2
          },
          "scene": {
           "xaxis": {
            "backgroundcolor": "rgb(17,17,17)",
            "gridcolor": "#506784",
            "linecolor": "#506784",
            "showbackground": true,
            "ticks": "",
            "zerolinecolor": "#C8D4E3",
            "gridwidth": 2
           },
           "yaxis": {
            "backgroundcolor": "rgb(17,17,17)",
            "gridcolor": "#506784",
            "linecolor": "#506784",
            "showbackground": true,
            "ticks": "",
            "zerolinecolor": "#C8D4E3",
            "gridwidth": 2
           },
           "zaxis": {
            "backgroundcolor": "rgb(17,17,17)",
            "gridcolor": "#506784",
            "linecolor": "#506784",
            "showbackground": true,
            "ticks": "",
            "zerolinecolor": "#C8D4E3",
            "gridwidth": 2
           }
          },
          "shapedefaults": {
           "line": {
            "color": "#f2f5fa"
           }
          },
          "annotationdefaults": {
           "arrowcolor": "#f2f5fa",
           "arrowhead": 0,
           "arrowwidth": 1
          },
          "geo": {
           "bgcolor": "rgb(17,17,17)",
           "landcolor": "rgb(17,17,17)",
           "subunitcolor": "#506784",
           "showland": true,
           "showlakes": true,
           "lakecolor": "rgb(17,17,17)"
          },
          "title": {
           "x": 0.05
          },
          "updatemenudefaults": {
           "bgcolor": "#506784",
           "borderwidth": 0
          },
          "sliderdefaults": {
           "bgcolor": "#C8D4E3",
           "borderwidth": 1,
           "bordercolor": "rgb(17,17,17)",
           "tickwidth": 0
          },
          "mapbox": {
           "style": "dark"
          }
         }
        },
        "xaxis": {
         "anchor": "y",
         "domain": [
          0.0,
          1.0
         ],
         "type": "date"
        },
        "yaxis": {
         "anchor": "x",
         "domain": [
          0.0,
          1.0
         ],
         "title": {
          "text": "Vessel"
         }
        },
        "legend": {
         "title": {
          "text": "Route"
         },
         "tracegroupgap": 0
        },
        "margin": {
         "t": 60
        },
        "barmode": "overlay",
        "width": 800
       },
       "config": {
        "plotlyServerURL": "https://plot.ly"
       }
      },
      "text/html": "<div>                            <div id=\"88e9b7dd-06e8-4899-bb41-28f8ed1f7381\" class=\"plotly-graph-div\" style=\"height:525px; width:800px;\"></div>            <script type=\"text/javascript\">                require([\"plotly\"], function(Plotly) {                    window.PLOTLYENV=window.PLOTLYENV || {};                                    if (document.getElementById(\"88e9b7dd-06e8-4899-bb41-28f8ed1f7381\")) {                    Plotly.newPlot(                        \"88e9b7dd-06e8-4899-bb41-28f8ed1f7381\",                        [{\"alignmentgroup\":\"True\",\"base\":[\"2022-04-10T16:00:00\"],\"hovertemplate\":\"Route=p3-p7<br>Start_datetime=%{base}<br>End_datetime=%{x}<br>Vessel=%{y}<extra></extra>\",\"legendgroup\":\"p3-p7\",\"marker\":{\"color\":\"#636efa\",\"pattern\":{\"shape\":\"\"}},\"name\":\"p3-p7\",\"offsetgroup\":\"p3-p7\",\"orientation\":\"h\",\"showlegend\":true,\"textposition\":\"auto\",\"x\":[75184214.0796],\"xaxis\":\"x\",\"y\":[\"Vessel 0\"],\"yaxis\":\"y\",\"type\":\"bar\"},{\"alignmentgroup\":\"True\",\"base\":[\"2022-04-12T16:00:00\",\"2022-04-14T16:00:00\"],\"hovertemplate\":\"Route=p6<br>Start_datetime=%{base}<br>End_datetime=%{x}<br>Vessel=%{y}<extra></extra>\",\"legendgroup\":\"p6\",\"marker\":{\"color\":\"#EF553B\",\"pattern\":{\"shape\":\"\"}},\"name\":\"p6\",\"offsetgroup\":\"p6\",\"orientation\":\"h\",\"showlegend\":true,\"textposition\":\"auto\",\"x\":[20941126.6824,20941126.6824],\"xaxis\":\"x\",\"y\":[\"Vessel 0\",\"Vessel 3\"],\"yaxis\":\"y\",\"type\":\"bar\"},{\"alignmentgroup\":\"True\",\"base\":[\"2022-04-13T16:00:00\"],\"hovertemplate\":\"Route=d4<br>Start_datetime=%{base}<br>End_datetime=%{x}<br>Vessel=%{y}<extra></extra>\",\"legendgroup\":\"d4\",\"marker\":{\"color\":\"#00cc96\",\"pattern\":{\"shape\":\"\"}},\"name\":\"d4\",\"offsetgroup\":\"d4\",\"orientation\":\"h\",\"showlegend\":true,\"textposition\":\"auto\",\"x\":[66365200.6776],\"xaxis\":\"x\",\"y\":[\"Vessel 0\"],\"yaxis\":\"y\",\"type\":\"bar\"},{\"alignmentgroup\":\"True\",\"base\":[\"2022-04-15T16:00:00\"],\"hovertemplate\":\"Route=d2<br>Start_datetime=%{base}<br>End_datetime=%{x}<br>Vessel=%{y}<extra></extra>\",\"legendgroup\":\"d2\",\"marker\":{\"color\":\"#ab63fa\",\"pattern\":{\"shape\":\"\"}},\"name\":\"d2\",\"offsetgroup\":\"d2\",\"orientation\":\"h\",\"showlegend\":true,\"textposition\":\"auto\",\"x\":[67697123.904],\"xaxis\":\"x\",\"y\":[\"Vessel 0\"],\"yaxis\":\"y\",\"type\":\"bar\"},{\"alignmentgroup\":\"True\",\"base\":[\"2022-04-11T16:00:00\"],\"hovertemplate\":\"Route=d3<br>Start_datetime=%{base}<br>End_datetime=%{x}<br>Vessel=%{y}<extra></extra>\",\"legendgroup\":\"d3\",\"marker\":{\"color\":\"#FFA15A\",\"pattern\":{\"shape\":\"\"}},\"name\":\"d3\",\"offsetgroup\":\"d3\",\"orientation\":\"h\",\"showlegend\":true,\"textposition\":\"auto\",\"x\":[89045749.8792],\"xaxis\":\"x\",\"y\":[\"Vessel 1\"],\"yaxis\":\"y\",\"type\":\"bar\"},{\"alignmentgroup\":\"True\",\"base\":[\"2022-04-13T16:00:00\"],\"hovertemplate\":\"Route=d5-d0-p5<br>Start_datetime=%{base}<br>End_datetime=%{x}<br>Vessel=%{y}<extra></extra>\",\"legendgroup\":\"d5-d0-p5\",\"marker\":{\"color\":\"#19d3f3\",\"pattern\":{\"shape\":\"\"}},\"name\":\"d5-d0-p5\",\"offsetgroup\":\"d5-d0-p5\",\"orientation\":\"h\",\"showlegend\":true,\"textposition\":\"auto\",\"x\":[102507494.7312],\"xaxis\":\"x\",\"y\":[\"Vessel 1\"],\"yaxis\":\"y\",\"type\":\"bar\"},{\"alignmentgroup\":\"True\",\"base\":[\"2022-04-15T16:00:00\"],\"hovertemplate\":\"Route=p5<br>Start_datetime=%{base}<br>End_datetime=%{x}<br>Vessel=%{y}<extra></extra>\",\"legendgroup\":\"p5\",\"marker\":{\"color\":\"#FF6692\",\"pattern\":{\"shape\":\"\"}},\"name\":\"p5\",\"offsetgroup\":\"p5\",\"orientation\":\"h\",\"showlegend\":true,\"textposition\":\"auto\",\"x\":[90770075.2404],\"xaxis\":\"x\",\"y\":[\"Vessel 1\"],\"yaxis\":\"y\",\"type\":\"bar\"},{\"alignmentgroup\":\"True\",\"base\":[\"2022-04-11T16:00:00\"],\"hovertemplate\":\"Route=p2-d1-p4-p1<br>Start_datetime=%{base}<br>End_datetime=%{x}<br>Vessel=%{y}<extra></extra>\",\"legendgroup\":\"p2-d1-p4-p1\",\"marker\":{\"color\":\"#B6E880\",\"pattern\":{\"shape\":\"\"}},\"name\":\"p2-d1-p4-p1\",\"offsetgroup\":\"p2-d1-p4-p1\",\"orientation\":\"h\",\"showlegend\":true,\"textposition\":\"auto\",\"x\":[102284059.8348],\"xaxis\":\"x\",\"y\":[\"Vessel 2\"],\"yaxis\":\"y\",\"type\":\"bar\"},{\"alignmentgroup\":\"True\",\"base\":[\"2022-04-13T16:00:00\"],\"hovertemplate\":\"Route=p2-d1-p1<br>Start_datetime=%{base}<br>End_datetime=%{x}<br>Vessel=%{y}<extra></extra>\",\"legendgroup\":\"p2-d1-p1\",\"marker\":{\"color\":\"#FF97FF\",\"pattern\":{\"shape\":\"\"}},\"name\":\"p2-d1-p1\",\"offsetgroup\":\"p2-d1-p1\",\"orientation\":\"h\",\"showlegend\":true,\"textposition\":\"auto\",\"x\":[97160132.502],\"xaxis\":\"x\",\"y\":[\"Vessel 2\"],\"yaxis\":\"y\",\"type\":\"bar\"},{\"alignmentgroup\":\"True\",\"base\":[\"2022-04-16T16:00:00\",\"2022-04-10T00:00:00\"],\"hovertemplate\":\"Route=p6-d3<br>Start_datetime=%{base}<br>End_datetime=%{x}<br>Vessel=%{y}<extra></extra>\",\"legendgroup\":\"p6-d3\",\"marker\":{\"color\":\"#FECB52\",\"pattern\":{\"shape\":\"\"}},\"name\":\"p6-d3\",\"offsetgroup\":\"p6-d3\",\"orientation\":\"h\",\"showlegend\":true,\"textposition\":\"auto\",\"x\":[28800000.0,60245749.8792],\"xaxis\":\"x\",\"y\":[\"Vessel 2\",\"Vessel 2\"],\"yaxis\":\"y\",\"type\":\"bar\"},{\"alignmentgroup\":\"True\",\"base\":[\"2022-04-12T16:00:00\"],\"hovertemplate\":\"Route=p0-p7<br>Start_datetime=%{base}<br>End_datetime=%{x}<br>Vessel=%{y}<extra></extra>\",\"legendgroup\":\"p0-p7\",\"marker\":{\"color\":\"#636efa\",\"pattern\":{\"shape\":\"\"}},\"name\":\"p0-p7\",\"offsetgroup\":\"p0-p7\",\"orientation\":\"h\",\"showlegend\":true,\"textposition\":\"auto\",\"x\":[92822885.3196],\"xaxis\":\"x\",\"y\":[\"Vessel 3\"],\"yaxis\":\"y\",\"type\":\"bar\"},{\"alignmentgroup\":\"True\",\"base\":[\"2022-04-16T16:00:00\",\"2022-04-10T00:00:00\"],\"hovertemplate\":\"Route=d4-d0-p0<br>Start_datetime=%{base}<br>End_datetime=%{x}<br>Vessel=%{y}<extra></extra>\",\"legendgroup\":\"d4-d0-p0\",\"marker\":{\"color\":\"#EF553B\",\"pattern\":{\"shape\":\"\"}},\"name\":\"d4-d0-p0\",\"offsetgroup\":\"d4-d0-p0\",\"orientation\":\"h\",\"showlegend\":true,\"textposition\":\"auto\",\"x\":[28800000.0,72529378.7796],\"xaxis\":\"x\",\"y\":[\"Vessel 3\",\"Vessel 3\"],\"yaxis\":\"y\",\"type\":\"bar\"},{\"alignmentgroup\":\"True\",\"base\":[\"2022-04-14T16:00:00\"],\"hovertemplate\":\"Route=p0<br>Start_datetime=%{base}<br>End_datetime=%{x}<br>Vessel=%{y}<extra></extra>\",\"legendgroup\":\"p0\",\"marker\":{\"color\":\"#00cc96\",\"pattern\":{\"shape\":\"\"}},\"name\":\"p0\",\"offsetgroup\":\"p0\",\"orientation\":\"h\",\"showlegend\":true,\"textposition\":\"auto\",\"x\":[84169820.1456],\"xaxis\":\"x\",\"y\":[\"Vessel 4\"],\"yaxis\":\"y\",\"type\":\"bar\"}],                        {\"template\":{\"data\":{\"histogram2dcontour\":[{\"type\":\"histogram2dcontour\",\"colorbar\":{\"outlinewidth\":0,\"ticks\":\"\"},\"colorscale\":[[0.0,\"#0d0887\"],[0.1111111111111111,\"#46039f\"],[0.2222222222222222,\"#7201a8\"],[0.3333333333333333,\"#9c179e\"],[0.4444444444444444,\"#bd3786\"],[0.5555555555555556,\"#d8576b\"],[0.6666666666666666,\"#ed7953\"],[0.7777777777777778,\"#fb9f3a\"],[0.8888888888888888,\"#fdca26\"],[1.0,\"#f0f921\"]]}],\"choropleth\":[{\"type\":\"choropleth\",\"colorbar\":{\"outlinewidth\":0,\"ticks\":\"\"}}],\"histogram2d\":[{\"type\":\"histogram2d\",\"colorbar\":{\"outlinewidth\":0,\"ticks\":\"\"},\"colorscale\":[[0.0,\"#0d0887\"],[0.1111111111111111,\"#46039f\"],[0.2222222222222222,\"#7201a8\"],[0.3333333333333333,\"#9c179e\"],[0.4444444444444444,\"#bd3786\"],[0.5555555555555556,\"#d8576b\"],[0.6666666666666666,\"#ed7953\"],[0.7777777777777778,\"#fb9f3a\"],[0.8888888888888888,\"#fdca26\"],[1.0,\"#f0f921\"]]}],\"heatmap\":[{\"type\":\"heatmap\",\"colorbar\":{\"outlinewidth\":0,\"ticks\":\"\"},\"colorscale\":[[0.0,\"#0d0887\"],[0.1111111111111111,\"#46039f\"],[0.2222222222222222,\"#7201a8\"],[0.3333333333333333,\"#9c179e\"],[0.4444444444444444,\"#bd3786\"],[0.5555555555555556,\"#d8576b\"],[0.6666666666666666,\"#ed7953\"],[0.7777777777777778,\"#fb9f3a\"],[0.8888888888888888,\"#fdca26\"],[1.0,\"#f0f921\"]]}],\"heatmapgl\":[{\"type\":\"heatmapgl\",\"colorbar\":{\"outlinewidth\":0,\"ticks\":\"\"},\"colorscale\":[[0.0,\"#0d0887\"],[0.1111111111111111,\"#46039f\"],[0.2222222222222222,\"#7201a8\"],[0.3333333333333333,\"#9c179e\"],[0.4444444444444444,\"#bd3786\"],[0.5555555555555556,\"#d8576b\"],[0.6666666666666666,\"#ed7953\"],[0.7777777777777778,\"#fb9f3a\"],[0.8888888888888888,\"#fdca26\"],[1.0,\"#f0f921\"]]}],\"contourcarpet\":[{\"type\":\"contourcarpet\",\"colorbar\":{\"outlinewidth\":0,\"ticks\":\"\"}}],\"contour\":[{\"type\":\"contour\",\"colorbar\":{\"outlinewidth\":0,\"ticks\":\"\"},\"colorscale\":[[0.0,\"#0d0887\"],[0.1111111111111111,\"#46039f\"],[0.2222222222222222,\"#7201a8\"],[0.3333333333333333,\"#9c179e\"],[0.4444444444444444,\"#bd3786\"],[0.5555555555555556,\"#d8576b\"],[0.6666666666666666,\"#ed7953\"],[0.7777777777777778,\"#fb9f3a\"],[0.8888888888888888,\"#fdca26\"],[1.0,\"#f0f921\"]]}],\"surface\":[{\"type\":\"surface\",\"colorbar\":{\"outlinewidth\":0,\"ticks\":\"\"},\"colorscale\":[[0.0,\"#0d0887\"],[0.1111111111111111,\"#46039f\"],[0.2222222222222222,\"#7201a8\"],[0.3333333333333333,\"#9c179e\"],[0.4444444444444444,\"#bd3786\"],[0.5555555555555556,\"#d8576b\"],[0.6666666666666666,\"#ed7953\"],[0.7777777777777778,\"#fb9f3a\"],[0.8888888888888888,\"#fdca26\"],[1.0,\"#f0f921\"]]}],\"mesh3d\":[{\"type\":\"mesh3d\",\"colorbar\":{\"outlinewidth\":0,\"ticks\":\"\"}}],\"scatter\":[{\"marker\":{\"line\":{\"color\":\"#283442\"}},\"type\":\"scatter\"}],\"parcoords\":[{\"type\":\"parcoords\",\"line\":{\"colorbar\":{\"outlinewidth\":0,\"ticks\":\"\"}}}],\"scatterpolargl\":[{\"type\":\"scatterpolargl\",\"marker\":{\"colorbar\":{\"outlinewidth\":0,\"ticks\":\"\"}}}],\"bar\":[{\"error_x\":{\"color\":\"#f2f5fa\"},\"error_y\":{\"color\":\"#f2f5fa\"},\"marker\":{\"line\":{\"color\":\"rgb(17,17,17)\",\"width\":0.5},\"pattern\":{\"fillmode\":\"overlay\",\"size\":10,\"solidity\":0.2}},\"type\":\"bar\"}],\"scattergeo\":[{\"type\":\"scattergeo\",\"marker\":{\"colorbar\":{\"outlinewidth\":0,\"ticks\":\"\"}}}],\"scatterpolar\":[{\"type\":\"scatterpolar\",\"marker\":{\"colorbar\":{\"outlinewidth\":0,\"ticks\":\"\"}}}],\"histogram\":[{\"marker\":{\"pattern\":{\"fillmode\":\"overlay\",\"size\":10,\"solidity\":0.2}},\"type\":\"histogram\"}],\"scattergl\":[{\"marker\":{\"line\":{\"color\":\"#283442\"}},\"type\":\"scattergl\"}],\"scatter3d\":[{\"type\":\"scatter3d\",\"line\":{\"colorbar\":{\"outlinewidth\":0,\"ticks\":\"\"}},\"marker\":{\"colorbar\":{\"outlinewidth\":0,\"ticks\":\"\"}}}],\"scattermapbox\":[{\"type\":\"scattermapbox\",\"marker\":{\"colorbar\":{\"outlinewidth\":0,\"ticks\":\"\"}}}],\"scatterternary\":[{\"type\":\"scatterternary\",\"marker\":{\"colorbar\":{\"outlinewidth\":0,\"ticks\":\"\"}}}],\"scattercarpet\":[{\"type\":\"scattercarpet\",\"marker\":{\"colorbar\":{\"outlinewidth\":0,\"ticks\":\"\"}}}],\"carpet\":[{\"aaxis\":{\"endlinecolor\":\"#A2B1C6\",\"gridcolor\":\"#506784\",\"linecolor\":\"#506784\",\"minorgridcolor\":\"#506784\",\"startlinecolor\":\"#A2B1C6\"},\"baxis\":{\"endlinecolor\":\"#A2B1C6\",\"gridcolor\":\"#506784\",\"linecolor\":\"#506784\",\"minorgridcolor\":\"#506784\",\"startlinecolor\":\"#A2B1C6\"},\"type\":\"carpet\"}],\"table\":[{\"cells\":{\"fill\":{\"color\":\"#506784\"},\"line\":{\"color\":\"rgb(17,17,17)\"}},\"header\":{\"fill\":{\"color\":\"#2a3f5f\"},\"line\":{\"color\":\"rgb(17,17,17)\"}},\"type\":\"table\"}],\"barpolar\":[{\"marker\":{\"line\":{\"color\":\"rgb(17,17,17)\",\"width\":0.5},\"pattern\":{\"fillmode\":\"overlay\",\"size\":10,\"solidity\":0.2}},\"type\":\"barpolar\"}],\"pie\":[{\"automargin\":true,\"type\":\"pie\"}]},\"layout\":{\"autotypenumbers\":\"strict\",\"colorway\":[\"#636efa\",\"#EF553B\",\"#00cc96\",\"#ab63fa\",\"#FFA15A\",\"#19d3f3\",\"#FF6692\",\"#B6E880\",\"#FF97FF\",\"#FECB52\"],\"font\":{\"color\":\"#f2f5fa\"},\"hovermode\":\"closest\",\"hoverlabel\":{\"align\":\"left\"},\"paper_bgcolor\":\"rgb(17,17,17)\",\"plot_bgcolor\":\"rgb(17,17,17)\",\"polar\":{\"bgcolor\":\"rgb(17,17,17)\",\"angularaxis\":{\"gridcolor\":\"#506784\",\"linecolor\":\"#506784\",\"ticks\":\"\"},\"radialaxis\":{\"gridcolor\":\"#506784\",\"linecolor\":\"#506784\",\"ticks\":\"\"}},\"ternary\":{\"bgcolor\":\"rgb(17,17,17)\",\"aaxis\":{\"gridcolor\":\"#506784\",\"linecolor\":\"#506784\",\"ticks\":\"\"},\"baxis\":{\"gridcolor\":\"#506784\",\"linecolor\":\"#506784\",\"ticks\":\"\"},\"caxis\":{\"gridcolor\":\"#506784\",\"linecolor\":\"#506784\",\"ticks\":\"\"}},\"coloraxis\":{\"colorbar\":{\"outlinewidth\":0,\"ticks\":\"\"}},\"colorscale\":{\"sequential\":[[0.0,\"#0d0887\"],[0.1111111111111111,\"#46039f\"],[0.2222222222222222,\"#7201a8\"],[0.3333333333333333,\"#9c179e\"],[0.4444444444444444,\"#bd3786\"],[0.5555555555555556,\"#d8576b\"],[0.6666666666666666,\"#ed7953\"],[0.7777777777777778,\"#fb9f3a\"],[0.8888888888888888,\"#fdca26\"],[1.0,\"#f0f921\"]],\"sequentialminus\":[[0.0,\"#0d0887\"],[0.1111111111111111,\"#46039f\"],[0.2222222222222222,\"#7201a8\"],[0.3333333333333333,\"#9c179e\"],[0.4444444444444444,\"#bd3786\"],[0.5555555555555556,\"#d8576b\"],[0.6666666666666666,\"#ed7953\"],[0.7777777777777778,\"#fb9f3a\"],[0.8888888888888888,\"#fdca26\"],[1.0,\"#f0f921\"]],\"diverging\":[[0,\"#8e0152\"],[0.1,\"#c51b7d\"],[0.2,\"#de77ae\"],[0.3,\"#f1b6da\"],[0.4,\"#fde0ef\"],[0.5,\"#f7f7f7\"],[0.6,\"#e6f5d0\"],[0.7,\"#b8e186\"],[0.8,\"#7fbc41\"],[0.9,\"#4d9221\"],[1,\"#276419\"]]},\"xaxis\":{\"gridcolor\":\"#283442\",\"linecolor\":\"#506784\",\"ticks\":\"\",\"title\":{\"standoff\":15},\"zerolinecolor\":\"#283442\",\"automargin\":true,\"zerolinewidth\":2},\"yaxis\":{\"gridcolor\":\"#283442\",\"linecolor\":\"#506784\",\"ticks\":\"\",\"title\":{\"standoff\":15},\"zerolinecolor\":\"#283442\",\"automargin\":true,\"zerolinewidth\":2},\"scene\":{\"xaxis\":{\"backgroundcolor\":\"rgb(17,17,17)\",\"gridcolor\":\"#506784\",\"linecolor\":\"#506784\",\"showbackground\":true,\"ticks\":\"\",\"zerolinecolor\":\"#C8D4E3\",\"gridwidth\":2},\"yaxis\":{\"backgroundcolor\":\"rgb(17,17,17)\",\"gridcolor\":\"#506784\",\"linecolor\":\"#506784\",\"showbackground\":true,\"ticks\":\"\",\"zerolinecolor\":\"#C8D4E3\",\"gridwidth\":2},\"zaxis\":{\"backgroundcolor\":\"rgb(17,17,17)\",\"gridcolor\":\"#506784\",\"linecolor\":\"#506784\",\"showbackground\":true,\"ticks\":\"\",\"zerolinecolor\":\"#C8D4E3\",\"gridwidth\":2}},\"shapedefaults\":{\"line\":{\"color\":\"#f2f5fa\"}},\"annotationdefaults\":{\"arrowcolor\":\"#f2f5fa\",\"arrowhead\":0,\"arrowwidth\":1},\"geo\":{\"bgcolor\":\"rgb(17,17,17)\",\"landcolor\":\"rgb(17,17,17)\",\"subunitcolor\":\"#506784\",\"showland\":true,\"showlakes\":true,\"lakecolor\":\"rgb(17,17,17)\"},\"title\":{\"x\":0.05},\"updatemenudefaults\":{\"bgcolor\":\"#506784\",\"borderwidth\":0},\"sliderdefaults\":{\"bgcolor\":\"#C8D4E3\",\"borderwidth\":1,\"bordercolor\":\"rgb(17,17,17)\",\"tickwidth\":0},\"mapbox\":{\"style\":\"dark\"}}},\"xaxis\":{\"anchor\":\"y\",\"domain\":[0.0,1.0],\"type\":\"date\"},\"yaxis\":{\"anchor\":\"x\",\"domain\":[0.0,1.0],\"title\":{\"text\":\"Vessel\"}},\"legend\":{\"title\":{\"text\":\"Route\"},\"tracegroupgap\":0},\"margin\":{\"t\":60},\"barmode\":\"overlay\",\"width\":800},                        {\"responsive\": true}                    ).then(function(){\n                            \nvar gd = document.getElementById('88e9b7dd-06e8-4899-bb41-28f8ed1f7381');\nvar x = new MutationObserver(function (mutations, observer) {{\n        var display = window.getComputedStyle(gd).display;\n        if (!display || display === 'none') {{\n            console.log([gd, 'removed!']);\n            Plotly.purge(gd);\n            observer.disconnect();\n        }}\n}});\n\n// Listen for the removal of the full notebook cells\nvar notebookContainer = gd.closest('#notebook-container');\nif (notebookContainer) {{\n    x.observe(notebookContainer, {childList: true});\n}}\n\n// Listen for the clearing of the current output cell\nvar outputEl = gd.closest('.output');\nif (outputEl) {{\n    x.observe(outputEl, {childList: true});\n}}\n\n                        })                };                });            </script>        </div>"
     },
     "metadata": {},
     "output_type": "display_data"
    }
   ],
   "source": [
    "import plotly.express as px\n",
    "import pandas as pd\n",
    "\n",
    "start_date = pd.to_datetime('04-10-2022')\n",
    "df = sch.to_df()\n",
    "df['Start_datetime'] = start_date + pd.to_timedelta(df.Start, unit='h')\n",
    "df['End_datetime'] = start_date + pd.to_timedelta(df.End, unit='h')\n",
    "fig = px.timeline(df,\n",
    "                  x_start='Start_datetime',\n",
    "                  x_end='End_datetime',\n",
    "                  y='Vessel',\n",
    "                  color='Route',\n",
    "                  width=800)\n",
    "fig.show()\n"
   ],
   "metadata": {
    "collapsed": false,
    "pycharm": {
     "name": "#%%\n"
    }
   }
  },
  {
   "cell_type": "code",
   "execution_count": 19,
   "outputs": [
    {
     "name": "stdout",
     "output_type": "stream",
     "text": [
      "Solution saved at sol_test1_0.pkl\n"
     ]
    }
   ],
   "source": [
    "dump_solution(sch, gen_param_name, dataset_name, sol_idx=0, source=io.IOSource.SAMPLE)"
   ],
   "metadata": {
    "collapsed": false,
    "pycharm": {
     "name": "#%%\n"
    }
   }
  },
  {
   "cell_type": "code",
   "execution_count": null,
   "outputs": [],
   "source": [],
   "metadata": {
    "collapsed": false,
    "pycharm": {
     "name": "#%%\n"
    }
   }
  }
 ],
 "metadata": {
  "kernelspec": {
   "name": "python3",
   "language": "python",
   "display_name": "Python 3 (ipykernel)"
  },
  "language_info": {
   "codemirror_mode": {
    "name": "ipython",
    "version": 2
   },
   "file_extension": ".py",
   "mimetype": "text/x-python",
   "name": "python",
   "nbconvert_exporter": "python",
   "pygments_lexer": "ipython2",
   "version": "2.7.6"
  }
 },
 "nbformat": 4,
 "nbformat_minor": 0
}